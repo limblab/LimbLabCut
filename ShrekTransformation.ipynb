{
 "cells": [
  {
   "cell_type": "code",
   "execution_count": null,
   "metadata": {},
   "outputs": [],
   "source": [
    "import glob\n",
    "import yaml\n",
    "trainingPath = \"/home/csv057/DeepLabCut/examples/DuncanReach-Chris-2018-11-30/\"\n",
    "weightsPath = u\"/home/csv057/DeepLabCut/deeplabcut/pose_estimation_tensorflow/models/pretrained/resnet_v1_50.ckpt\""
   ]
  },
  {
   "cell_type": "code",
   "execution_count": null,
   "metadata": {},
   "outputs": [],
   "source": [
    "for filename in glob.glob( trainingPath + '/**/*.yaml', recursive=True):\n",
    "    with open(filename, 'r') as f:\n",
    "        yamlData = yaml.load(f)\n",
    "        keys = yamlData.keys()\n",
    "        if \"project_path\" in keys:\n",
    "            yamlData[\"project_path\"] = trainingPath\n",
    "        if \"dataset\" in keys:\n",
    "            yamlData[\"dataset\"] = yamlData[\"dataset\"].replace('\\\\','/')\n",
    "        if \"metadataset\" in keys:\n",
    "            yamlData[\"metadataset\"] = yamlData[\"metadataset\"].replace('\\\\','/')\n",
    "        if \"init_weights\" in keys:\n",
    "            yamlData[\"init_weights\"]= weightsPath\n",
    "        with open(filename, 'w') as f1:\n",
    "            yaml.dump(yamlData, f1)\n",
    "for filename in glob.glob(trainingPath + './**/*.csv', recursive = True):\n",
    "    with open(filename, mode = 'r') as f:\n",
    "        f= ''.join([i for i in f]).replace('\\\\','/')\n",
    "        x = open(filename, 'w')\n",
    "        x.writelines(f)\n",
    "        x.close\n",
    "        "
   ]
  },
  {
   "cell_type": "code",
   "execution_count": null,
   "metadata": {},
   "outputs": [],
   "source": [
    "import h5py\n",
    "import pandas as pd\n",
    "import os\n",
    "from deeplabcut.utils import auxiliaryfunctions, visualization\n",
    "from deeplabcut.pose_estimation_tensorflow.config import load_config\n",
    "\n",
    "for filename in glob.glob(trainingPath + '/*.yaml'):\n",
    "    cfg = auxiliaryfunctions.read_config(filename)\n",
    "    trainingsetfolder=auxiliaryfunctions.GetTrainingSetFolder(cfg)\n",
    "    Data=pd.read_hdf(os.path.join(cfg[\"project_path\"],str(trainingsetfolder),'CollectedData_' + cfg[\"scorer\"] + '.h5'),'df_with_missing', mode = 'a')\n",
    "    count  = 0\n",
    "    for dat in Data.index:\n",
    "        dat1 = dat\n",
    "        index1 = dat.replace('\\\\','/')\n",
    "        Data.rename(index = {dat1:index1}, inplace = True)\n",
    "        count+=1\n",
    "    Data.to_hdf(os.path.join(cfg[\"project_path\"],str(trainingsetfolder),'CollectedData_' + cfg[\"scorer\"] + '.h5'), 'df_with_missing')\n"
   ]
  },
  {
   "cell_type": "code",
   "execution_count": null,
   "metadata": {},
   "outputs": [],
   "source": [
    "import pickle\n",
    "for filename in glob.glob( trainingPath + '/**/*.pickle', recursive=True):\n",
    "    with open(filename, 'rb') as f:\n",
    "        pickData = pickle.load(f)\n",
    "        count = 0\n",
    "        for row in range(0, len(pickData[0])):\n",
    "            pickData[0][row]['image']  = pickData[0][row][\"image\"].replace('\\\\','/')\n",
    "        with open(filename, 'wb') as f1:\n",
    "            pickle.dump(pickData, f1)"
   ]
  },
  {
   "cell_type": "code",
   "execution_count": null,
   "metadata": {},
   "outputs": [],
   "source": [
    "from scipy.io import loadmat\n",
    "from scipy.io import savemat\n",
    "\n",
    "for filename in glob.glob( trainingPath + '/**/*.mat', recursive=True):\n",
    "    matData = loadmat(filename)\n",
    "    count = 0\n",
    "    for row in matData['dataset'][0]:\n",
    "        matData['dataset'][0][count][0][0]  =row[0][0].replace('\\\\','/')\n",
    "        count +=1\n",
    "        \n",
    "    savemat(filename, matData)"
   ]
  },
  {
   "cell_type": "code",
   "execution_count": null,
   "metadata": {},
   "outputs": [],
   "source": []
  },
  {
   "cell_type": "code",
   "execution_count": null,
   "metadata": {},
   "outputs": [],
   "source": []
  },
  {
   "cell_type": "code",
   "execution_count": null,
   "metadata": {},
   "outputs": [],
   "source": []
  },
  {
   "cell_type": "code",
   "execution_count": null,
   "metadata": {},
   "outputs": [],
   "source": []
  }
 ],
 "metadata": {
  "kernelspec": {
   "display_name": "Python 3",
   "language": "python",
   "name": "python3"
  },
  "language_info": {
   "codemirror_mode": {
    "name": "ipython",
    "version": 3
   },
   "file_extension": ".py",
   "mimetype": "text/x-python",
   "name": "python",
   "nbconvert_exporter": "python",
   "pygments_lexer": "ipython3",
   "version": "3.6.3"
  },
  "varInspector": {
   "cols": {
    "lenName": 16,
    "lenType": 16,
    "lenVar": 40
   },
   "kernels_config": {
    "python": {
     "delete_cmd_postfix": "",
     "delete_cmd_prefix": "del ",
     "library": "var_list.py",
     "varRefreshCmd": "print(var_dic_list())"
    },
    "r": {
     "delete_cmd_postfix": ") ",
     "delete_cmd_prefix": "rm(",
     "library": "var_list.r",
     "varRefreshCmd": "cat(var_dic_list()) "
    }
   },
   "types_to_exclude": [
    "module",
    "function",
    "builtin_function_or_method",
    "instance",
    "_Feature"
   ],
   "window_display": false
  }
 },
 "nbformat": 4,
 "nbformat_minor": 2
}
