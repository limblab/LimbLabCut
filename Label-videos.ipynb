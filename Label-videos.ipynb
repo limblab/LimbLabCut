{
 "cells": [
  {
   "cell_type": "code",
   "execution_count": 1,
   "metadata": {},
   "outputs": [],
   "source": [
    "import deeplabcut\n",
    "\n",
    "import yaml\n",
    "\n",
    "from paramiko import SSHClient\n",
    "import paramiko\n",
    "from scp import SCPClient\n",
    "import getpass\n",
    "\n",
    "import os\n",
    "import glob"
   ]
  },
  {
   "cell_type": "code",
   "execution_count": 2,
   "metadata": {},
   "outputs": [],
   "source": [
    "# set shrek project folder and local folder (dest_folder)\n",
    "\n",
    "shrek_project_folder = '/home/jts3256/projects/Han_202102-Joe-2021-02-04'\n",
    "dest_folder = r'D:\\Lab\\Data\\DLC_videos\\Han_20210211_rwFreeReach'"
   ]
  },
  {
   "cell_type": "code",
   "execution_count": null,
   "metadata": {},
   "outputs": [],
   "source": [
    "# move folder from Shrek to local computer to label frames on local computer. Set shrek project folder and dest_folder\n",
    "# Also may need to update ssh key/id\n",
    "image_folder = shrek_project_folder + '/labeled-data'\n",
    "config_file = shrek_project_folder + '/config.yaml'\n",
    "\n",
    "if(not os.path.isdir(dest_folder)):\n",
    "    os.mkdir(dest_folder)\n",
    "\n",
    "ssh = SSHClient()\n",
    "ssh.load_host_keys(filename = r'C:\\Users\\Joseph Sombeck\\shrek_publickey (2).ppk')\n",
    "\n",
    "pkey_filename = r'C:\\Users\\Joseph Sombeck\\shrek_sshkey'\n",
    "#pkey = paramiko.RSAKey.from_private_key_file(pkey_filename)\n",
    "ssh.set_missing_host_key_policy(paramiko.AutoAddPolicy())\n",
    "\n",
    "\n",
    "\n",
    "ssh.connect(hostname = \"FSMS270859X8810459.fsm.northwestern.edu\", username= \"jts3256\", key_filename=pkey_filename)\n",
    "with SCPClient(ssh.get_transport(), sanitize=lambda x: x) as scp:\n",
    "    scp.get(image_folder,recursive = True, local_path=dest_folder)\n",
    "    scp.get(config_file,recursive = False, local_path=dest_folder)\n",
    "    \n",
    "local_config_path = dest_folder+ r'\\config.yaml'\n",
    "\n",
    "# update project path in config path\n",
    "with open(local_config_path) as file:\n",
    "    data = yaml.load(file, Loader = yaml.FullLoader)\n",
    "\n",
    "    data['project_path'] = dest_folder # default = 20\n",
    "\n",
    "with open(local_config_path,'w') as file:\n",
    "    yaml.dump(data,file)\n"
   ]
  },
  {
   "cell_type": "code",
   "execution_count": 3,
   "metadata": {},
   "outputs": [
    {
     "data": {
      "text/plain": [
       "'D:\\\\Lab\\\\Data\\\\DLC_videos\\\\Han_20210621_freeReach\\\\config.yaml'"
      ]
     },
     "execution_count": 3,
     "metadata": {},
     "output_type": "execute_result"
    }
   ],
   "source": [
    "local_config_path"
   ]
  },
  {
   "cell_type": "code",
   "execution_count": 3,
   "metadata": {},
   "outputs": [
    {
     "ename": "RuntimeError",
     "evalue": "wrapped C/C++ object of type DirDialog has been deleted",
     "output_type": "error",
     "traceback": [
      "\u001b[1;31m---------------------------------------------------------------------------\u001b[0m",
      "\u001b[1;31mRuntimeError\u001b[0m                              Traceback (most recent call last)",
      "\u001b[1;32mC:\\ProgramData\\Anaconda3\\envs\\DLC-GPU\\lib\\site-packages\\deeplabcut\\generate_training_dataset\\labeling_toolbox.py\u001b[0m in \u001b[0;36mquitButton\u001b[1;34m(self, event)\u001b[0m\n\u001b[0;32m    315\u001b[0m             \u001b[0mself\u001b[0m\u001b[1;33m.\u001b[0m\u001b[0mchoiceBox\u001b[0m\u001b[1;33m.\u001b[0m\u001b[0mClear\u001b[0m\u001b[1;33m(\u001b[0m\u001b[1;32mTrue\u001b[0m\u001b[1;33m)\u001b[0m\u001b[1;33m\u001b[0m\u001b[1;33m\u001b[0m\u001b[0m\n\u001b[0;32m    316\u001b[0m             \u001b[0mMainFrame\u001b[0m\u001b[1;33m.\u001b[0m\u001b[0mupdateZoomPan\u001b[0m\u001b[1;33m(\u001b[0m\u001b[0mself\u001b[0m\u001b[1;33m)\u001b[0m\u001b[1;33m\u001b[0m\u001b[1;33m\u001b[0m\u001b[0m\n\u001b[1;32m--> 317\u001b[1;33m             \u001b[0mMainFrame\u001b[0m\u001b[1;33m.\u001b[0m\u001b[0mbrowseDir\u001b[0m\u001b[1;33m(\u001b[0m\u001b[0mself\u001b[0m\u001b[1;33m,\u001b[0m \u001b[0mevent\u001b[0m\u001b[1;33m)\u001b[0m\u001b[1;33m\u001b[0m\u001b[1;33m\u001b[0m\u001b[0m\n\u001b[0m\u001b[0;32m    318\u001b[0m             \u001b[0mself\u001b[0m\u001b[1;33m.\u001b[0m\u001b[0msave\u001b[0m\u001b[1;33m.\u001b[0m\u001b[0mEnable\u001b[0m\u001b[1;33m(\u001b[0m\u001b[1;32mTrue\u001b[0m\u001b[1;33m)\u001b[0m\u001b[1;33m\u001b[0m\u001b[1;33m\u001b[0m\u001b[0m\n\u001b[0;32m    319\u001b[0m         \u001b[1;32melse\u001b[0m\u001b[1;33m:\u001b[0m\u001b[1;33m\u001b[0m\u001b[1;33m\u001b[0m\u001b[0m\n",
      "\u001b[1;32mC:\\ProgramData\\Anaconda3\\envs\\DLC-GPU\\lib\\site-packages\\deeplabcut\\generate_training_dataset\\labeling_toolbox.py\u001b[0m in \u001b[0;36mbrowseDir\u001b[1;34m(self, event)\u001b[0m\n\u001b[0;32m    432\u001b[0m             \u001b[0mdlg\u001b[0m\u001b[1;33m.\u001b[0m\u001b[0mDestroy\u001b[0m\u001b[1;33m(\u001b[0m\u001b[1;33m)\u001b[0m\u001b[1;33m\u001b[0m\u001b[1;33m\u001b[0m\u001b[0m\n\u001b[0;32m    433\u001b[0m             \u001b[0mself\u001b[0m\u001b[1;33m.\u001b[0m\u001b[0mClose\u001b[0m\u001b[1;33m(\u001b[0m\u001b[1;32mTrue\u001b[0m\u001b[1;33m)\u001b[0m\u001b[1;33m\u001b[0m\u001b[1;33m\u001b[0m\u001b[0m\n\u001b[1;32m--> 434\u001b[1;33m         \u001b[0mdlg\u001b[0m\u001b[1;33m.\u001b[0m\u001b[0mDestroy\u001b[0m\u001b[1;33m(\u001b[0m\u001b[1;33m)\u001b[0m\u001b[1;33m\u001b[0m\u001b[1;33m\u001b[0m\u001b[0m\n\u001b[0m\u001b[0;32m    435\u001b[0m \u001b[1;33m\u001b[0m\u001b[0m\n\u001b[0;32m    436\u001b[0m \u001b[1;31m# Enabling the zoom, pan and home buttons\u001b[0m\u001b[1;33m\u001b[0m\u001b[1;33m\u001b[0m\u001b[1;33m\u001b[0m\u001b[0m\n",
      "\u001b[1;31mRuntimeError\u001b[0m: wrapped C/C++ object of type DirDialog has been deleted"
     ]
    }
   ],
   "source": [
    "\"\"\"\n",
    "label frames\n",
    "\"\"\"\n",
    "local_config_path= r'D:\\Lab\\Data\\DLC_videos\\Han_20210621_freeReach\\config.yaml'\n",
    "    \n",
    "#local_config_path = dest_folder + r'\\config.yaml'\n",
    "\n",
    "deeplabcut.label_frames(local_config_path,imtypes=['*png'])"
   ]
  },
  {
   "cell_type": "code",
   "execution_count": null,
   "metadata": {
    "scrolled": true
   },
   "outputs": [],
   "source": [
    "#deeplabcut.check_labels(local_config_path)\n",
    "\n",
    "# move files back onto shrek\n",
    "ssh = SSHClient()\n",
    "ssh.load_host_keys(filename = r'C:\\Users\\Joseph Sombeck\\shrek_publickey (2).ppk')\n",
    "\n",
    "pkey_filename = r'C:\\Users\\Joseph Sombeck\\shrek_sshkey'\n",
    "ssh.set_missing_host_key_policy(paramiko.AutoAddPolicy())\n",
    "\n",
    "ssh.connect(hostname = \"FSMS270859X8810459.fsm.northwestern.edu\", username= \"jts3256\", key_filename=pkey_filename)\n",
    "scp  = SCPClient(ssh.get_transport())\n",
    "\n",
    "scp.put(files = dest_folder + '\\labeled-data',recursive = True, \n",
    "        remote_path =shrek_project_folder)\n"
   ]
  }
 ],
 "metadata": {
  "kernelspec": {
   "display_name": "Python 3",
   "language": "python",
   "name": "python3"
  },
  "language_info": {
   "codemirror_mode": {
    "name": "ipython",
    "version": 3
   },
   "file_extension": ".py",
   "mimetype": "text/x-python",
   "name": "python",
   "nbconvert_exporter": "python",
   "pygments_lexer": "ipython3",
   "version": "3.7.9"
  },
  "varInspector": {
   "cols": {
    "lenName": 16,
    "lenType": 16,
    "lenVar": 40
   },
   "kernels_config": {
    "python": {
     "delete_cmd_postfix": "",
     "delete_cmd_prefix": "del ",
     "library": "var_list.py",
     "varRefreshCmd": "print(var_dic_list())"
    },
    "r": {
     "delete_cmd_postfix": ") ",
     "delete_cmd_prefix": "rm(",
     "library": "var_list.r",
     "varRefreshCmd": "cat(var_dic_list()) "
    }
   },
   "types_to_exclude": [
    "module",
    "function",
    "builtin_function_or_method",
    "instance",
    "_Feature"
   ],
   "window_display": false
  }
 },
 "nbformat": 4,
 "nbformat_minor": 2
}
