{
 "cells": [
  {
   "cell_type": "code",
   "execution_count": 1,
   "metadata": {},
   "outputs": [
    {
     "name": "stdout",
     "output_type": "stream",
     "text": [
      "DLC loaded in light mode; you cannot use any GUI (labeling, relabeling and standalone GUI)\n"
     ]
    }
   ],
   "source": [
    "\"\"\"\n",
    "This code is meant to be ran on Shrek (or Donkey). If labelling frames is necessary, those frames\n",
    "will be moved to a different computer for labelling, then moved back to Shrek (or Donkey) using \"Label-videos.ipynb\"\n",
    "\n",
    "This code can run deeplabcut from scratch (start new project, label frames, train network, analyze videos) or can \n",
    "start at different points in the pipeline\n",
    "\n",
    "\"\"\"\n",
    "import fnmatch\n",
    "import pandas as pd\n",
    "import os\n",
    "os.environ[\"DLClight\"]=\"True\"\n",
    "import deeplabcut\n",
    "import glob\n",
    "\n",
    "import subprocess"
   ]
  },
  {
   "cell_type": "code",
   "execution_count": 2,
   "metadata": {},
   "outputs": [
    {
     "name": "stdout",
     "output_type": "stream",
     "text": [
      "['D:\\\\Lab\\\\Data\\\\DLC_videos\\\\Han_20201204_rwFreeReach\\\\videos\\\\Han_20201204_00005.avi']\n"
     ]
    }
   ],
   "source": [
    "# setup config file and model to use\n",
    "config_file = r'D:\\Lab\\Data\\DLC_videos\\Han_20201204_rwFreeReach/config.yaml'\n",
    "\n",
    "# setup video list\n",
    "video_dir = r'D:\\Lab\\Data\\DLC_videos\\Han_20201204_rwFreeReach\\videos/'\n",
    "video_list = glob.glob(video_dir + '*5.avi')\n",
    "print(video_list)"
   ]
  },
  {
   "cell_type": "code",
   "execution_count": null,
   "metadata": {},
   "outputs": [
    {
     "name": "stdout",
     "output_type": "stream",
     "text": [
      "Using snapshot-1030000 for model /home/jts3256/DLC_videos/Han_202012-Joe-2020-12-14/dlc-models/iteration-0/Han_202012Dec14-trainset95shuffle1\n",
      "Initializing ResNet\n"
     ]
    },
    {
     "name": "stderr",
     "output_type": "stream",
     "text": [
      "\r",
      "  0%|          | 0/32762 [00:00<?, ?it/s]"
     ]
    },
    {
     "name": "stdout",
     "output_type": "stream",
     "text": [
      "Starting to analyze %  /home/jts3256/DLC_videos/videos/Han_20201203_00011.avi\n",
      "/home/jts3256/DLC_videos/videos  already exists!\n",
      "Loading  /home/jts3256/DLC_videos/videos/Han_20201203_00011.avi\n",
      "Duration of video [s]:  1310.48 , recorded with  25.0 fps!\n",
      "Overall # of frames:  32762  found with (before cropping) frame dimensions:  1280 1024\n",
      "Starting to extract posture\n"
     ]
    },
    {
     "name": "stderr",
     "output_type": "stream",
     "text": [
      "  3%|▎         | 981/32762 [00:50<19:57, 26.53it/s]"
     ]
    }
   ],
   "source": [
    "# analyze videos\n",
    "deeplabcut.analyze_videos(config_file,video_list, save_as_csv=True)\n",
    "deeplabcut.filterpredictions(config_file,video_list,filtertype='spline')\n",
    "deeplabcut.plot_trajectories(config_file,video_list)\n",
    "deeplabcut.create_labeled_video(config_file,video_list,filtered=True)"
   ]
  },
  {
   "cell_type": "code",
   "execution_count": 3,
   "metadata": {},
   "outputs": [
    {
     "ename": "FileNotFoundError",
     "evalue": "[WinError 3] The system cannot find the path specified: 'D:\\\\Lab\\\\Data\\\\DLC_videos\\\\Han_20201204_rwFreeReach\\\\Han_reaching-Joe-2020-12-10\\\\dlc-models\\\\iteration-0\\\\Han_reachingDec10-trainset95shuffle1\\\\train'",
     "output_type": "error",
     "traceback": [
      "\u001b[1;31m---------------------------------------------------------------------------\u001b[0m",
      "\u001b[1;31mFileNotFoundError\u001b[0m                         Traceback (most recent call last)",
      "\u001b[1;32m<ipython-input-3-aaa24c6b8266>\u001b[0m in \u001b[0;36m<module>\u001b[1;34m\u001b[0m\n\u001b[1;32m----> 1\u001b[1;33m \u001b[0mdeeplabcut\u001b[0m\u001b[1;33m.\u001b[0m\u001b[0mfilterpredictions\u001b[0m\u001b[1;33m(\u001b[0m\u001b[0mconfig_file\u001b[0m\u001b[1;33m,\u001b[0m\u001b[0mvideo_list\u001b[0m\u001b[1;33m,\u001b[0m\u001b[0mfiltertype\u001b[0m\u001b[1;33m=\u001b[0m\u001b[1;34m'spline'\u001b[0m\u001b[1;33m)\u001b[0m\u001b[1;33m\u001b[0m\u001b[1;33m\u001b[0m\u001b[0m\n\u001b[0m",
      "\u001b[1;32mC:\\ProgramData\\Anaconda3\\envs\\DLC-GPU\\lib\\site-packages\\deeplabcut\\post_processing\\filtering.py\u001b[0m in \u001b[0;36mfilterpredictions\u001b[1;34m(config, video, videotype, shuffle, trainingsetindex, filtertype, windowlength, p_bound, ARdegree, MAdegree, alpha, save_as_csv, destfolder)\u001b[0m\n\u001b[0;32m     93\u001b[0m     \"\"\"\n\u001b[0;32m     94\u001b[0m     \u001b[0mcfg\u001b[0m \u001b[1;33m=\u001b[0m \u001b[0mauxiliaryfunctions\u001b[0m\u001b[1;33m.\u001b[0m\u001b[0mread_config\u001b[0m\u001b[1;33m(\u001b[0m\u001b[0mconfig\u001b[0m\u001b[1;33m)\u001b[0m\u001b[1;33m\u001b[0m\u001b[1;33m\u001b[0m\u001b[0m\n\u001b[1;32m---> 95\u001b[1;33m     \u001b[0mDLCscorer\u001b[0m\u001b[1;33m,\u001b[0m\u001b[0mDLCscorerlegacy\u001b[0m\u001b[1;33m=\u001b[0m\u001b[0mauxiliaryfunctions\u001b[0m\u001b[1;33m.\u001b[0m\u001b[0mGetScorerName\u001b[0m\u001b[1;33m(\u001b[0m\u001b[0mcfg\u001b[0m\u001b[1;33m,\u001b[0m\u001b[0mshuffle\u001b[0m\u001b[1;33m,\u001b[0m\u001b[0mtrainFraction\u001b[0m \u001b[1;33m=\u001b[0m \u001b[0mcfg\u001b[0m\u001b[1;33m[\u001b[0m\u001b[1;34m'TrainingFraction'\u001b[0m\u001b[1;33m]\u001b[0m\u001b[1;33m[\u001b[0m\u001b[0mtrainingsetindex\u001b[0m\u001b[1;33m]\u001b[0m\u001b[1;33m)\u001b[0m\u001b[1;33m\u001b[0m\u001b[1;33m\u001b[0m\u001b[0m\n\u001b[0m\u001b[0;32m     96\u001b[0m     \u001b[0mVideos\u001b[0m\u001b[1;33m=\u001b[0m\u001b[0mauxiliaryfunctions\u001b[0m\u001b[1;33m.\u001b[0m\u001b[0mGetlistofvideos\u001b[0m\u001b[1;33m(\u001b[0m\u001b[0mvideo\u001b[0m\u001b[1;33m,\u001b[0m\u001b[0mvideotype\u001b[0m\u001b[1;33m)\u001b[0m\u001b[1;33m\u001b[0m\u001b[1;33m\u001b[0m\u001b[0m\n\u001b[0;32m     97\u001b[0m \u001b[1;33m\u001b[0m\u001b[0m\n",
      "\u001b[1;32mC:\\ProgramData\\Anaconda3\\envs\\DLC-GPU\\lib\\site-packages\\deeplabcut\\utils\\auxiliaryfunctions.py\u001b[0m in \u001b[0;36mGetScorerName\u001b[1;34m(cfg, shuffle, trainFraction, trainingsiterations)\u001b[0m\n\u001b[0;32m    368\u001b[0m \u001b[1;33m\u001b[0m\u001b[0m\n\u001b[0;32m    369\u001b[0m         \u001b[0mmodelfolder\u001b[0m\u001b[1;33m=\u001b[0m\u001b[0mos\u001b[0m\u001b[1;33m.\u001b[0m\u001b[0mpath\u001b[0m\u001b[1;33m.\u001b[0m\u001b[0mjoin\u001b[0m\u001b[1;33m(\u001b[0m\u001b[0mcfg\u001b[0m\u001b[1;33m[\u001b[0m\u001b[1;34m\"project_path\"\u001b[0m\u001b[1;33m]\u001b[0m\u001b[1;33m,\u001b[0m\u001b[0mstr\u001b[0m\u001b[1;33m(\u001b[0m\u001b[0mGetModelFolder\u001b[0m\u001b[1;33m(\u001b[0m\u001b[0mtrainFraction\u001b[0m\u001b[1;33m,\u001b[0m\u001b[0mshuffle\u001b[0m\u001b[1;33m,\u001b[0m\u001b[0mcfg\u001b[0m\u001b[1;33m)\u001b[0m\u001b[1;33m)\u001b[0m\u001b[1;33m,\u001b[0m\u001b[1;34m'train'\u001b[0m\u001b[1;33m)\u001b[0m\u001b[1;33m\u001b[0m\u001b[1;33m\u001b[0m\u001b[0m\n\u001b[1;32m--> 370\u001b[1;33m         \u001b[0mSnapshots\u001b[0m \u001b[1;33m=\u001b[0m \u001b[0mnp\u001b[0m\u001b[1;33m.\u001b[0m\u001b[0marray\u001b[0m\u001b[1;33m(\u001b[0m\u001b[1;33m[\u001b[0m\u001b[0mfn\u001b[0m\u001b[1;33m.\u001b[0m\u001b[0msplit\u001b[0m\u001b[1;33m(\u001b[0m\u001b[1;34m'.'\u001b[0m\u001b[1;33m)\u001b[0m\u001b[1;33m[\u001b[0m\u001b[1;36m0\u001b[0m\u001b[1;33m]\u001b[0m\u001b[1;32mfor\u001b[0m \u001b[0mfn\u001b[0m \u001b[1;32min\u001b[0m \u001b[0mos\u001b[0m\u001b[1;33m.\u001b[0m\u001b[0mlistdir\u001b[0m\u001b[1;33m(\u001b[0m\u001b[0mmodelfolder\u001b[0m\u001b[1;33m)\u001b[0m \u001b[1;32mif\u001b[0m \u001b[1;34m\"index\"\u001b[0m \u001b[1;32min\u001b[0m \u001b[0mfn\u001b[0m\u001b[1;33m]\u001b[0m\u001b[1;33m)\u001b[0m\u001b[1;33m\u001b[0m\u001b[1;33m\u001b[0m\u001b[0m\n\u001b[0m\u001b[0;32m    371\u001b[0m         \u001b[0mincreasing_indices\u001b[0m \u001b[1;33m=\u001b[0m \u001b[0mnp\u001b[0m\u001b[1;33m.\u001b[0m\u001b[0margsort\u001b[0m\u001b[1;33m(\u001b[0m\u001b[1;33m[\u001b[0m\u001b[0mint\u001b[0m\u001b[1;33m(\u001b[0m\u001b[0mm\u001b[0m\u001b[1;33m.\u001b[0m\u001b[0msplit\u001b[0m\u001b[1;33m(\u001b[0m\u001b[1;34m'-'\u001b[0m\u001b[1;33m)\u001b[0m\u001b[1;33m[\u001b[0m\u001b[1;36m1\u001b[0m\u001b[1;33m]\u001b[0m\u001b[1;33m)\u001b[0m \u001b[1;32mfor\u001b[0m \u001b[0mm\u001b[0m \u001b[1;32min\u001b[0m \u001b[0mSnapshots\u001b[0m\u001b[1;33m]\u001b[0m\u001b[1;33m)\u001b[0m\u001b[1;33m\u001b[0m\u001b[1;33m\u001b[0m\u001b[0m\n\u001b[0;32m    372\u001b[0m         \u001b[0mSnapshots\u001b[0m \u001b[1;33m=\u001b[0m \u001b[0mSnapshots\u001b[0m\u001b[1;33m[\u001b[0m\u001b[0mincreasing_indices\u001b[0m\u001b[1;33m]\u001b[0m\u001b[1;33m\u001b[0m\u001b[1;33m\u001b[0m\u001b[0m\n",
      "\u001b[1;31mFileNotFoundError\u001b[0m: [WinError 3] The system cannot find the path specified: 'D:\\\\Lab\\\\Data\\\\DLC_videos\\\\Han_20201204_rwFreeReach\\\\Han_reaching-Joe-2020-12-10\\\\dlc-models\\\\iteration-0\\\\Han_reachingDec10-trainset95shuffle1\\\\train'"
     ]
    }
   ],
   "source": [
    "deeplabcut.filterpredictions(config_file,video_list,filtertype='spline')\n"
   ]
  }
 ],
 "metadata": {
  "kernelspec": {
   "display_name": "Python 3",
   "language": "python",
   "name": "python3"
  },
  "language_info": {
   "codemirror_mode": {
    "name": "ipython",
    "version": 3
   },
   "file_extension": ".py",
   "mimetype": "text/x-python",
   "name": "python",
   "nbconvert_exporter": "python",
   "pygments_lexer": "ipython3",
   "version": "3.7.9"
  },
  "varInspector": {
   "cols": {
    "lenName": 16,
    "lenType": 16,
    "lenVar": 40
   },
   "kernels_config": {
    "python": {
     "delete_cmd_postfix": "",
     "delete_cmd_prefix": "del ",
     "library": "var_list.py",
     "varRefreshCmd": "print(var_dic_list())"
    },
    "r": {
     "delete_cmd_postfix": ") ",
     "delete_cmd_prefix": "rm(",
     "library": "var_list.r",
     "varRefreshCmd": "cat(var_dic_list()) "
    }
   },
   "types_to_exclude": [
    "module",
    "function",
    "builtin_function_or_method",
    "instance",
    "_Feature"
   ],
   "window_display": false
  }
 },
 "nbformat": 4,
 "nbformat_minor": 4
}
